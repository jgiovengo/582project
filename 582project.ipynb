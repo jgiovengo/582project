{
  "nbformat": 4,
  "nbformat_minor": 0,
  "metadata": {
    "colab": {
      "provenance": [],
      "authorship_tag": "ABX9TyMggJjTCcED+6a7ytfFksVD",
      "include_colab_link": true
    },
    "kernelspec": {
      "name": "python3",
      "display_name": "Python 3"
    },
    "language_info": {
      "name": "python"
    }
  },
  "cells": [
    {
      "cell_type": "markdown",
      "metadata": {
        "id": "view-in-github",
        "colab_type": "text"
      },
      "source": [
        "<a href=\"https://colab.research.google.com/github/jgiovengo/582project/blob/main/582project.ipynb\" target=\"_parent\"><img src=\"https://colab.research.google.com/assets/colab-badge.svg\" alt=\"Open In Colab\"/></a>"
      ]
    },
    {
      "cell_type": "markdown",
      "source": [
        "Install and Import Dependencies\n",
        "\n",
        "\n",
        "\n"
      ],
      "metadata": {
        "id": "fHBAfcGjXrOS"
      }
    },
    {
      "cell_type": "code",
      "source": [],
      "metadata": {
        "id": "3Veqpo7eXq_A"
      },
      "execution_count": null,
      "outputs": []
    }
  ]
}