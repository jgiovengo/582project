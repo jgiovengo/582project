{
  "nbformat": 4,
  "nbformat_minor": 0,
  "metadata": {
    "colab": {
      "provenance": [],
      "include_colab_link": true
    },
    "kernelspec": {
      "name": "python3",
      "display_name": "Python 3"
    },
    "language_info": {
      "name": "python"
    }
  },
  "cells": [
    {
      "cell_type": "markdown",
      "metadata": {
        "id": "view-in-github",
        "colab_type": "text"
      },
      "source": [
        "<a href=\"https://colab.research.google.com/github/jgiovengo/582project/blob/main/582project.ipynb\" target=\"_parent\"><img src=\"https://colab.research.google.com/assets/colab-badge.svg\" alt=\"Open In Colab\"/></a>"
      ]
    },
    {
      "cell_type": "markdown",
      "source": [
        "Install and Import Dependencies\n",
        "\n",
        "\n",
        "\n"
      ],
      "metadata": {
        "id": "fHBAfcGjXrOS"
      }
    },
    {
      "cell_type": "code",
      "source": [
        "pip install SpeechRecognition pyttsx3 openai\n",
        "pip install pyaudio\n",
        "pip install pywhatkit\n",
        "pip install datetime\n",
        "pip install os\n",
        "\n",
        "import speech_recognition as sr\n",
        "import pyttsx3\n",
        "import openai\n",
        "import datetime\n",
        "import pywhatkit\n",
        "import os"
      ],
      "metadata": {
        "id": "3Veqpo7eXq_A"
      },
      "execution_count": null,
      "outputs": []
    },
    {
      "cell_type": "code",
      "source": [
        "#OpenAI API key\n",
        "openai.api_key = 'your-api-key-here'\n",
        "\n",
        "# Initialize the recognizer and text-to-speech engine\n",
        "recognizer = sr.Recognizer()\n",
        "engine = pyttsx3.init()\n",
        "\n",
        "def listen_for_wake_word():\n",
        "    with sr.Microphone() as source:\n",
        "        print(\"Waiting for 'Hey Aztec'...\")\n",
        "        while True:\n",
        "            audio = recognizer.listen(source)\n",
        "            try:\n",
        "                phrase = recognizer.recognize_google(audio).lower()\n",
        "                if \"hey aztec\" in phrase:\n",
        "                    print(\"Wake word detected!\")\n",
        "                    return\n",
        "            except:\n",
        "                pass\n",
        "\n",
        "def speak(text):\n",
        "    engine.say(text)\n",
        "    engine.runAndWait()\n",
        "\n",
        "def listen():\n",
        "    with sr.Microphone() as source:\n",
        "        print(\"Listening...\")\n",
        "        audio = recognizer.listen(source)\n",
        "\n",
        "        try:\n",
        "            command = recognizer.recognize_google(audio)\n",
        "            print(f\"You said: {command}\")\n",
        "            return command\n",
        "        except sr.UnknownValueError:\n",
        "            speak(\"Sorry, I didn't catch that.\")\n",
        "            return None\n",
        "        except sr.RequestError:\n",
        "            speak(\"Service is down.\")\n",
        "            return None\n",
        "\n",
        "def get_ai_response(prompt):\n",
        "    response = openai.ChatCompletion.create(\n",
        "        model=\"gpt-3.5-turbo\",\n",
        "        messages=[{\"role\": \"user\", \"content\": prompt}]\n",
        "    )\n",
        "    return response.choices[0].message['content']\n",
        "\n",
        "def main():\n",
        "    while True:\n",
        "        command = listen()\n",
        "        if command:\n",
        "            if \"stop\" in command.lower():\n",
        "                speak(\"Goodbye!\")\n",
        "                break\n",
        "            response = get_ai_response(command)\n",
        "            print(\"Assistant:\", response)\n",
        "            speak(response)\n",
        "\n",
        "if __name__ == \"__main__\":\n",
        "    main()"
      ],
      "metadata": {
        "id": "D237Qn2jw19t"
      },
      "execution_count": null,
      "outputs": []
    }
  ]
}